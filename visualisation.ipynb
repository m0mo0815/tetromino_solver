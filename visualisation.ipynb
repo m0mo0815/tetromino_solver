{
 "cells": [
  {
   "cell_type": "code",
   "execution_count": 10,
   "id": "2f513931-ede5-40f9-9257-5c1604347b7c",
   "metadata": {},
   "outputs": [
    {
     "name": "stdout",
     "output_type": "stream",
     "text": [
      "Grid saved as output/f75be4d_10x20_grid_output.png\n"
     ]
    },
    {
     "data": {
      "image/png": "[encoded data removed]",
      "text/plain": [
       "<Figure size 1000x600 with 1 Axes>"
      ]
     },
     "metadata": {},
     "output_type": "display_data"
    },
    {
     "name": "stdout",
     "output_type": "stream",
     "text": [
      "Grid saved as output/f75be4d_20x20_grid_output.png\n"
     ]
    },
    {
     "data": {
      "image/png": "[encoded data removed]",
      "text/plain": [
       "<Figure size 1000x600 with 1 Axes>"
      ]
     },
     "metadata": {},
     "output_type": "display_data"
    },
    {
     "name": "stdout",
     "output_type": "stream",
     "text": [
      "Grid saved as output/f75be4d_10x10_grid_output.png\n"
     ]
    },
    {
     "data": {
      "image/png": "[encoded data removed]",
      "text/plain": [
       "<Figure size 1000x600 with 1 Axes>"
      ]
     },
     "metadata": {},
     "output_type": "display_data"
    }
   ],
   "source": [
    "import matplotlib.pyplot as plt\n",
    "import numpy as np\n",
    "import matplotlib.patches as patches\n",
    "import os\n",
    "import glob\n",
    "\n",
    "# Load grid data from the file, removing empty lines\n",
    "def load_grid(filename):\n",
    "    with open(filename, 'r') as file:\n",
    "        grid = [list(map(int, line.split())) for line in file if line.strip()]\n",
    "    return np.array(grid)\n",
    "\n",
    "# Function to check if a grid cell is connected to its neighbors (for black-and-white mode)\n",
    "def is_connected(grid, row, col):\n",
    "    connected = []\n",
    "    if row > 0 and grid[row, col] == grid[row - 1, col]:\n",
    "        connected.append('top')\n",
    "    if row < grid.shape[0] - 1 and grid[row, col] == grid[row + 1, col]:\n",
    "        connected.append('bottom')\n",
    "    if col > 0 and grid[row, col] == grid[row, col - 1]:\n",
    "        connected.append('left')\n",
    "    if col < grid.shape[1] - 1 and grid[row, col] == grid[row, col + 1]:\n",
    "        connected.append('right')\n",
    "    return connected\n",
    "\n",
    "# Visualize the grid using matplotlib (color or black-and-white based on output_style)\n",
    "def visualize_grid(grid, output_style='color', save_as_png=False, output_filename=\"\"):\n",
    "    if output_style == 'color':\n",
    "        unique_ids = np.unique(grid)\n",
    "        num_colors = len(unique_ids)\n",
    "\n",
    "        # Create a colormap with distinct colors, excluding white\n",
    "        base_cmap = plt.get_cmap('tab20b')\n",
    "        colors = [base_cmap(i % 20) for i in range(num_colors)]\n",
    "        cmap = plt.cm.colors.ListedColormap(colors)\n",
    "\n",
    "        plt.figure(figsize=(10, 6))  # Adjust for grid size\n",
    "        plt.imshow(grid, cmap=cmap, interpolation='none', extent=[0, grid.shape[1], grid.shape[0], 0])\n",
    "\n",
    "        # Adjust the gridlines to align with the grid cells\n",
    "        plt.grid(which='both', color='black', linestyle='-', linewidth=2)\n",
    "        plt.xticks(np.arange(0, grid.shape[1] + 1, 1))\n",
    "        plt.yticks(np.arange(0, grid.shape[0] + 1, 1))\n",
    "        plt.grid(which='minor', color='black', linestyle='-', linewidth=2)\n",
    "\n",
    "    elif output_style == 'bw':\n",
    "        fig, ax = plt.subplots(figsize=(10, 6))\n",
    "        ax.set_xlim(0, grid.shape[1])\n",
    "        ax.set_ylim(0, grid.shape[0])\n",
    "        ax.invert_yaxis()\n",
    "\n",
    "        uniform_color = '#333'  # Grey color for all tetrominoes\n",
    "\n",
    "        for row in range(grid.shape[0]):\n",
    "            for col in range(grid.shape[1]):\n",
    "                if grid[row, col] != 0:\n",
    "                    connected = is_connected(grid, row, col)\n",
    "                    rect = patches.Rectangle((col, row), 1, 1, facecolor=uniform_color, edgecolor='none')\n",
    "                    ax.add_patch(rect)\n",
    "\n",
    "                    # Draw borders only where tetrominoes are not connected\n",
    "                    if 'top' not in connected:\n",
    "                        ax.plot([col, col + 1], [row, row], color='white', lw=1)\n",
    "                    if 'bottom' not in connected:\n",
    "                        ax.plot([col, col + 1], [row + 1, row + 1], color='white', lw=1)\n",
    "                    if 'left' not in connected:\n",
    "                        ax.plot([col, col], [row, row + 1], color='white', lw=1)\n",
    "                    if 'right' not in connected:\n",
    "                        ax.plot([col + 1, col + 1], [row, row + 1], color='white', lw=1)\n",
    "\n",
    "        # Ensure the aspect ratio is equal\n",
    "        ax.set_aspect('equal')\n",
    "        \n",
    "        # Disable the default grid and ticks\n",
    "        ax.set_xticks([])\n",
    "        ax.set_yticks([])\n",
    "        ax.grid(False)\n",
    "\n",
    "    # Save the figure as a PNG file\n",
    "    if save_as_png:\n",
    "        plt.savefig(output_filename, bbox_inches='tight')\n",
    "        print(f\"Grid saved as {output_filename}\")\n",
    "\n",
    "    plt.show()\n",
    "\n",
    "# Define the prefix to filter files\n",
    "prefix = \"f75be4d\"  # Change as needed\n",
    "\n",
    "# Find all grid output files in the output directory with the specified prefix\n",
    "grid_files = glob.glob(f\"output/{prefix}_*x*_grid_output.txt\")\n",
    "\n",
    "# Loop through each file and generate the corresponding PNG\n",
    "for grid_file in grid_files:\n",
    "    # Extract the rows and cols from the filename\n",
    "    parts = os.path.basename(grid_file).split('_')\n",
    "    if len(parts) >= 3:  # Ensure the filename is well-formed\n",
    "        rows_cols = parts[1]  # This should be like \"10x20\"\n",
    "        rows, cols = rows_cols.split('x')\n",
    "\n",
    "        # Load the grid data\n",
    "        grid = load_grid(grid_file)\n",
    "\n",
    "        # Generate the PNG filename\n",
    "        output_filename = f\"output/{prefix}_{rows}x{cols}_grid_output.png\"\n",
    "\n",
    "        # Visualize and save the grid\n",
    "        visualize_grid(grid, output_style='bw', save_as_png=True, output_filename=output_filename)\n"
   ]
  }
 ],
 "metadata": {
  "kernelspec": {
   "display_name": "Python 3 (ipykernel)",
   "language": "python",
   "name": "python3"
  },
  "language_info": {
   "codemirror_mode": {
    "name": "ipython",
    "version": 3
   },
   "file_extension": ".py",
   "mimetype": "text/x-python",
   "name": "python",
   "nbconvert_exporter": "python",
   "pygments_lexer": "ipython3",
   "version": "3.9.18"
  }
 },
 "nbformat": 4,
 "nbformat_minor": 5
}
